{
 "cells": [
  {
   "cell_type": "markdown",
   "id": "c6f5c58f-c13e-4181-a21e-e482b8cbbefd",
   "metadata": {},
   "source": [
    "# Import the package"
   ]
  },
  {
   "cell_type": "code",
   "execution_count": 1,
   "id": "580546eb-a1b8-46be-bb20-4ec0dbc87e4a",
   "metadata": {},
   "outputs": [],
   "source": [
    "import requests\n",
    "import pandas as pd"
   ]
  },
  {
   "cell_type": "markdown",
   "id": "a4d97ede-7d44-48e0-9ab0-26fc325bd3c3",
   "metadata": {},
   "source": [
    "# Create User Functions"
   ]
  },
  {
   "cell_type": "code",
   "execution_count": 2,
   "id": "fe5802cf-9729-4716-b212-c4320416b075",
   "metadata": {},
   "outputs": [],
   "source": [
    "def fetch_weather_data(weather_api_url):\n",
    "    '''\n",
    "    This function get data from the weather API\n",
    "    and returns the data as a json object\n",
    "    Input = API url\n",
    "    Output = data or an error message \n",
    "    '''\n",
    "    try:\n",
    "        response = requests.get(weather_api_url)\n",
    "        # Raise an HTTPError if the HTTP request returned an unsuccessful status code\n",
    "        response.raise_for_status()  \n",
    "        weather_data_json = response.json()\n",
    "        return weather_data_json\n",
    "    except requests.HTTPError as http_error:\n",
    "        print(f'HTTP error occurred in the dataset: {http_error}')\n",
    "    except Exception as err:\n",
    "        print(f'An error occurred in the dataset: {err}')"
   ]
  },
  {
   "cell_type": "code",
   "execution_count": 3,
   "id": "4d900155-c6db-4c32-8c9a-03ece30b453e",
   "metadata": {},
   "outputs": [],
   "source": [
    "json = fetch_weather_data(\"https://api.open-meteo.com/v1/forecast?latitude=51.5085&longitude=-0.1257&hourly=temperature_2m,rain,showers,visibility&past_days=31\")"
   ]
  },
  {
   "cell_type": "code",
   "execution_count": 4,
   "id": "9229bed1-1252-4dea-89d9-4ab036ddb249",
   "metadata": {},
   "outputs": [],
   "source": [
    "def process_the_data(json):\n",
    "    '''\n",
    "    This function process the data \n",
    "    Input = json object\n",
    "    Output = process data or an error message \n",
    "    '''\n",
    "    try:\n",
    "        # the structure of the data is as expected\n",
    "        # the except will provide an error if not\n",
    "        hourly_weather_data = json['hourly']\n",
    "        df = pd.DataFrame(hourly_weather_data)\n",
    "        print(df)\n",
    "        # Convert the timestamp to datetime and set it as an index\n",
    "        df['time'] = pd.to_datetime(df['time'])\n",
    "        df.set_index('time', inplace=True)\n",
    "        \n",
    "        # Resample the data to daily and sum the required values\n",
    "        daily_weather_df = df.resample('D').sum()\n",
    "        return daily_weather_df\n",
    "    \n",
    "    except Exception as err:\n",
    "        print(f'An error occurred during data processing: {err}')"
   ]
  },
  {
   "cell_type": "code",
   "execution_count": 5,
   "id": "297560de-f977-477e-a53d-5abf64670943",
   "metadata": {},
   "outputs": [
    {
     "name": "stdout",
     "output_type": "stream",
     "text": [
      "                 time  temperature_2m  rain  showers  visibility\n",
      "0    2023-12-26T00:00            10.5   0.0      0.0     24140.0\n",
      "1    2023-12-26T01:00             9.9   0.0      0.0     24140.0\n",
      "2    2023-12-26T02:00             9.5   0.0      0.0     24140.0\n",
      "3    2023-12-26T03:00             8.8   0.0      0.0     24140.0\n",
      "4    2023-12-26T04:00             8.3   0.0      0.0     24140.0\n",
      "..                ...             ...   ...      ...         ...\n",
      "907  2024-02-01T19:00            12.6   0.0      0.0     24140.0\n",
      "908  2024-02-01T20:00            12.7   0.0      0.0     24140.0\n",
      "909  2024-02-01T21:00            12.6   0.0      0.0     24140.0\n",
      "910  2024-02-01T22:00            12.2   0.0      0.0     24140.0\n",
      "911  2024-02-01T23:00            11.7   0.0      0.0     24140.0\n",
      "\n",
      "[912 rows x 5 columns]\n"
     ]
    },
    {
     "data": {
      "text/html": [
       "<div>\n",
       "<style scoped>\n",
       "    .dataframe tbody tr th:only-of-type {\n",
       "        vertical-align: middle;\n",
       "    }\n",
       "\n",
       "    .dataframe tbody tr th {\n",
       "        vertical-align: top;\n",
       "    }\n",
       "\n",
       "    .dataframe thead th {\n",
       "        text-align: right;\n",
       "    }\n",
       "</style>\n",
       "<table border=\"1\" class=\"dataframe\">\n",
       "  <thead>\n",
       "    <tr style=\"text-align: right;\">\n",
       "      <th></th>\n",
       "      <th>temperature_2m</th>\n",
       "      <th>rain</th>\n",
       "      <th>showers</th>\n",
       "      <th>visibility</th>\n",
       "    </tr>\n",
       "    <tr>\n",
       "      <th>time</th>\n",
       "      <th></th>\n",
       "      <th></th>\n",
       "      <th></th>\n",
       "      <th></th>\n",
       "    </tr>\n",
       "  </thead>\n",
       "  <tbody>\n",
       "    <tr>\n",
       "      <th>2023-12-26</th>\n",
       "      <td>187.2</td>\n",
       "      <td>0.1</td>\n",
       "      <td>0.0</td>\n",
       "      <td>577960.0</td>\n",
       "    </tr>\n",
       "    <tr>\n",
       "      <th>2023-12-27</th>\n",
       "      <td>247.3</td>\n",
       "      <td>6.6</td>\n",
       "      <td>0.0</td>\n",
       "      <td>537720.0</td>\n",
       "    </tr>\n",
       "    <tr>\n",
       "      <th>2023-12-28</th>\n",
       "      <td>272.1</td>\n",
       "      <td>0.0</td>\n",
       "      <td>0.1</td>\n",
       "      <td>575820.0</td>\n",
       "    </tr>\n",
       "    <tr>\n",
       "      <th>2023-12-29</th>\n",
       "      <td>226.2</td>\n",
       "      <td>0.1</td>\n",
       "      <td>0.3</td>\n",
       "      <td>568840.0</td>\n",
       "    </tr>\n",
       "    <tr>\n",
       "      <th>2023-12-30</th>\n",
       "      <td>224.0</td>\n",
       "      <td>0.6</td>\n",
       "      <td>0.0</td>\n",
       "      <td>558820.0</td>\n",
       "    </tr>\n",
       "  </tbody>\n",
       "</table>\n",
       "</div>"
      ],
      "text/plain": [
       "            temperature_2m  rain  showers  visibility\n",
       "time                                                 \n",
       "2023-12-26           187.2   0.1      0.0    577960.0\n",
       "2023-12-27           247.3   6.6      0.0    537720.0\n",
       "2023-12-28           272.1   0.0      0.1    575820.0\n",
       "2023-12-29           226.2   0.1      0.3    568840.0\n",
       "2023-12-30           224.0   0.6      0.0    558820.0"
      ]
     },
     "execution_count": 5,
     "metadata": {},
     "output_type": "execute_result"
    }
   ],
   "source": [
    "df_process = process_the_data(json)\n",
    "df_process.head()"
   ]
  },
  {
   "cell_type": "code",
   "execution_count": 6,
   "id": "4ceae818-83a3-45f0-9a99-fe9dea2a9731",
   "metadata": {},
   "outputs": [],
   "source": [
    "def save_file_as_parquet(df, file_name):\n",
    "    '''\n",
    "    This function save the file as a parquet file\n",
    "    Input = DataFrame\n",
    "    Output = Saved parquet file or an error message\n",
    "    '''\n",
    "    try:\n",
    "        # Specify the compression method, or set it to None if you don't want any compression\n",
    "        df.to_parquet('daily_weather.parquet', compression='gzip')  \n",
    "        \n",
    "    except Exception as err:\n",
    "        print(f'An error occurred while saving the weather dataset: {err}')\n"
   ]
  },
  {
   "cell_type": "code",
   "execution_count": 7,
   "id": "3e900575-216f-42c1-ad81-7d6ba558ac3b",
   "metadata": {},
   "outputs": [],
   "source": [
    "save_file_as_parquet(df_process, 'daily_weather.parquet')\n"
   ]
  },
  {
   "cell_type": "code",
   "execution_count": 8,
   "id": "06c22218-9b5d-4eed-8399-d88ae9388a20",
   "metadata": {},
   "outputs": [],
   "source": [
    "def main():\n",
    "    '''\n",
    "    This functions calls the other functions in \n",
    "    order of processing.\n",
    "    It wraps and runs all the activity as a unit\n",
    "    '''\n",
    "    weather_api_url = \"https://api.open-meteo.com/v1/forecast?latitude=51.5085&longitude=-0.1257&hourly=temperature_2m,rain,showers,visibility&past_days=31\"\n",
    "    weather_data = fetch_weather_data(weather_api_url)\n",
    "    \n",
    "    if weather_data:\n",
    "        df_processed_data = process_the_data(weather_data)\n",
    "        if not df_processed_data.empty:\n",
    "            save_file_as_parquet(df_processed_data, 'daily_weather.parquet')\n",
    "        else:\n",
    "            print(\"There are no data to save.\")\n",
    "    else:\n",
    "        print(\"The pipeline failed to fetch data.\")"
   ]
  },
  {
   "cell_type": "code",
   "execution_count": 9,
   "id": "8bf5093b-0384-4a0c-9f8e-14e86fefd483",
   "metadata": {},
   "outputs": [
    {
     "name": "stdout",
     "output_type": "stream",
     "text": [
      "                 time  temperature_2m  rain  showers  visibility\n",
      "0    2023-12-26T00:00            10.5   0.0      0.0     24140.0\n",
      "1    2023-12-26T01:00             9.9   0.0      0.0     24140.0\n",
      "2    2023-12-26T02:00             9.5   0.0      0.0     24140.0\n",
      "3    2023-12-26T03:00             8.8   0.0      0.0     24140.0\n",
      "4    2023-12-26T04:00             8.3   0.0      0.0     24140.0\n",
      "..                ...             ...   ...      ...         ...\n",
      "907  2024-02-01T19:00            12.6   0.0      0.0     24140.0\n",
      "908  2024-02-01T20:00            12.7   0.0      0.0     24140.0\n",
      "909  2024-02-01T21:00            12.6   0.0      0.0     24140.0\n",
      "910  2024-02-01T22:00            12.2   0.0      0.0     24140.0\n",
      "911  2024-02-01T23:00            11.7   0.0      0.0     24140.0\n",
      "\n",
      "[912 rows x 5 columns]\n"
     ]
    }
   ],
   "source": [
    "if __name__ == \"__main__\":\n",
    "    main()"
   ]
  },
  {
   "cell_type": "markdown",
   "id": "193e6fed-af1d-4ca7-89d4-337f5be57ee0",
   "metadata": {},
   "source": [
    "# Import the data for testing"
   ]
  },
  {
   "cell_type": "code",
   "execution_count": 10,
   "id": "2c624689-bfc0-4f71-be9b-ea83e579ec83",
   "metadata": {},
   "outputs": [
    {
     "data": {
      "text/html": [
       "<div>\n",
       "<style scoped>\n",
       "    .dataframe tbody tr th:only-of-type {\n",
       "        vertical-align: middle;\n",
       "    }\n",
       "\n",
       "    .dataframe tbody tr th {\n",
       "        vertical-align: top;\n",
       "    }\n",
       "\n",
       "    .dataframe thead th {\n",
       "        text-align: right;\n",
       "    }\n",
       "</style>\n",
       "<table border=\"1\" class=\"dataframe\">\n",
       "  <thead>\n",
       "    <tr style=\"text-align: right;\">\n",
       "      <th></th>\n",
       "      <th>temperature_2m</th>\n",
       "      <th>rain</th>\n",
       "      <th>showers</th>\n",
       "      <th>visibility</th>\n",
       "    </tr>\n",
       "    <tr>\n",
       "      <th>time</th>\n",
       "      <th></th>\n",
       "      <th></th>\n",
       "      <th></th>\n",
       "      <th></th>\n",
       "    </tr>\n",
       "  </thead>\n",
       "  <tbody>\n",
       "    <tr>\n",
       "      <th>2023-12-30</th>\n",
       "      <td>224.0</td>\n",
       "      <td>0.6</td>\n",
       "      <td>0.0</td>\n",
       "      <td>558820.0</td>\n",
       "    </tr>\n",
       "    <tr>\n",
       "      <th>2024-01-14</th>\n",
       "      <td>81.5</td>\n",
       "      <td>0.0</td>\n",
       "      <td>0.0</td>\n",
       "      <td>579360.0</td>\n",
       "    </tr>\n",
       "    <tr>\n",
       "      <th>2023-12-31</th>\n",
       "      <td>214.4</td>\n",
       "      <td>14.7</td>\n",
       "      <td>0.7</td>\n",
       "      <td>484580.0</td>\n",
       "    </tr>\n",
       "    <tr>\n",
       "      <th>2024-01-18</th>\n",
       "      <td>-16.4</td>\n",
       "      <td>0.0</td>\n",
       "      <td>0.0</td>\n",
       "      <td>579360.0</td>\n",
       "    </tr>\n",
       "    <tr>\n",
       "      <th>2024-01-31</th>\n",
       "      <td>227.8</td>\n",
       "      <td>1.3</td>\n",
       "      <td>0.0</td>\n",
       "      <td>579360.0</td>\n",
       "    </tr>\n",
       "    <tr>\n",
       "      <th>2024-01-06</th>\n",
       "      <td>132.9</td>\n",
       "      <td>0.0</td>\n",
       "      <td>0.2</td>\n",
       "      <td>579360.0</td>\n",
       "    </tr>\n",
       "    <tr>\n",
       "      <th>2023-12-29</th>\n",
       "      <td>226.2</td>\n",
       "      <td>0.1</td>\n",
       "      <td>0.3</td>\n",
       "      <td>568840.0</td>\n",
       "    </tr>\n",
       "    <tr>\n",
       "      <th>2024-01-21</th>\n",
       "      <td>218.8</td>\n",
       "      <td>5.3</td>\n",
       "      <td>0.0</td>\n",
       "      <td>516720.0</td>\n",
       "    </tr>\n",
       "    <tr>\n",
       "      <th>2024-01-30</th>\n",
       "      <td>243.9</td>\n",
       "      <td>0.0</td>\n",
       "      <td>0.0</td>\n",
       "      <td>579360.0</td>\n",
       "    </tr>\n",
       "    <tr>\n",
       "      <th>2024-01-16</th>\n",
       "      <td>2.3</td>\n",
       "      <td>0.0</td>\n",
       "      <td>0.0</td>\n",
       "      <td>579360.0</td>\n",
       "    </tr>\n",
       "  </tbody>\n",
       "</table>\n",
       "</div>"
      ],
      "text/plain": [
       "            temperature_2m  rain  showers  visibility\n",
       "time                                                 \n",
       "2023-12-30           224.0   0.6      0.0    558820.0\n",
       "2024-01-14            81.5   0.0      0.0    579360.0\n",
       "2023-12-31           214.4  14.7      0.7    484580.0\n",
       "2024-01-18           -16.4   0.0      0.0    579360.0\n",
       "2024-01-31           227.8   1.3      0.0    579360.0\n",
       "2024-01-06           132.9   0.0      0.2    579360.0\n",
       "2023-12-29           226.2   0.1      0.3    568840.0\n",
       "2024-01-21           218.8   5.3      0.0    516720.0\n",
       "2024-01-30           243.9   0.0      0.0    579360.0\n",
       "2024-01-16             2.3   0.0      0.0    579360.0"
      ]
     },
     "execution_count": 10,
     "metadata": {},
     "output_type": "execute_result"
    }
   ],
   "source": [
    "import pandas as pd\n",
    "\n",
    "file_name = 'daily_weather.parquet' \n",
    "\n",
    "# Load the Parquet file\n",
    "df = pd.read_parquet(file_name, engine='pyarrow')  # You can also use engine='fastparquet'\n",
    "\n",
    "# Display sample data\n",
    "df.sample(10)"
   ]
  },
  {
   "cell_type": "markdown",
   "id": "27c20c34-7394-4b78-98f0-ea9c569a0e95",
   "metadata": {},
   "source": [
    "# Unit test with Pytest"
   ]
  },
  {
   "cell_type": "code",
   "execution_count": 11,
   "id": "8361055b-6429-488a-9f47-c766c644c0a3",
   "metadata": {},
   "outputs": [
    {
     "name": "stderr",
     "output_type": "stream",
     "text": [
      "ERROR: usage: ipykernel_launcher.py [options] [file_or_dir] [file_or_dir] [...]\n",
      "ipykernel_launcher.py: error: unrecognized arguments: -f\n",
      "  inifile: None\n",
      "  rootdir: C:\\Users\\bunmi\n",
      "\n"
     ]
    }
   ],
   "source": [
    "import pytest\n",
    "\n",
    "# Example test\n",
    "def test_fetch_weather_data():\n",
    "    url = \"https://api.open-meteo.com/v1/forecast?latitude=51.5085&longitude=-0.1257&hourly=temperature_2m,rain,showers,visibility&past_days=31\"\n",
    "    ''' Use requests.get to return a known response and assert \n",
    "    that the data returns the correct data structure\n",
    "    '''\n",
    "    pass\n",
    "\n",
    "\n",
    "def test_process_the_data():\n",
    "    '''Provide some sample data and assert that the \n",
    "    transform_data aggregates data correctly\n",
    "    '''\n",
    "    pass\n",
    "\n",
    "\n",
    "def test_save_file_as_parquet():\n",
    "    ''' We will provide some sample data and use a mock file\n",
    "    system or a temporary file to test save_data. In addition use \n",
    "    assert statement to ensure that the file is saved correctly\n",
    "    '''\n",
    "    pass\n",
    "\n",
    "\n",
    "if __name__ == \"__main__\":\n",
    "    pytest.main()"
   ]
  },
  {
   "cell_type": "code",
   "execution_count": null,
   "id": "a3ff7e6a-d7fc-4454-9a6e-07282dcd9d39",
   "metadata": {},
   "outputs": [],
   "source": []
  }
 ],
 "metadata": {
  "kernelspec": {
   "display_name": "Python [conda env:data_eng]",
   "language": "python",
   "name": "conda-env-data_eng-py"
  },
  "language_info": {
   "codemirror_mode": {
    "name": "ipython",
    "version": 3
   },
   "file_extension": ".py",
   "mimetype": "text/x-python",
   "name": "python",
   "nbconvert_exporter": "python",
   "pygments_lexer": "ipython3",
   "version": "3.8.13"
  }
 },
 "nbformat": 4,
 "nbformat_minor": 5
}
